{
 "cells": [
  {
   "cell_type": "code",
   "execution_count": 34,
   "metadata": {},
   "outputs": [],
   "source": [
    "import pandas as pd\n",
    "import numpy as np\n",
    "import pyproj\n",
    "import plotly.graph_objects as go"
   ]
  },
  {
   "cell_type": "code",
   "execution_count": 2,
   "metadata": {},
   "outputs": [],
   "source": [
    "#Se importan los datos de los pozos del proyecto Kalé\n",
    "pozos_kale = pd.read_csv(r'datasets/Pozos_Kale_CTM12.txt', delimiter=';', decimal=',')\n",
    "pozo_inv_kale = pozos_kale[pozos_kale['Tipo']=='Investigación']\n",
    "x_pozo_inv_kale, y_pozo_inv_kale  = pozo_inv_kale['ESTE'].values[0], pozo_inv_kale['NORTE'].values[0]\n",
    "h_pozo_inv_kale = 3.902 #km\n",
    "h_pozo_inv_kale_m = h_pozo_inv_kale*1000 #m\n",
    "r_ext = 2*h_pozo_inv_kale_m+20000 #m"
   ]
  },
  {
   "cell_type": "code",
   "execution_count": 3,
   "metadata": {},
   "outputs": [],
   "source": [
    "sismos = pd.read_csv(r'datasets\\reporte_LBG_2.csv')\n",
    "sismos['FECHA - HORA UTC']=sismos['Fecha  (UTC)'].astype(str)+' '+sismos['Hora  (UTC)'].astype(str)\n",
    "sismos.rename(columns = {'Latitud(°)':'LATITUD (°)', \n",
    "                                'Longitud(°)':'LONGITUD (°)',\n",
    "                                'Profundidad(Km)':'PROF. (Km)',\n",
    "                                'Magnitud':'MAGNITUD',\n",
    "                                'Tipo Magnitud':'TIPO MAGNITUD',\n",
    "                                'Rms(Seg)':'RMS (Seg)',\n",
    "                                'Gap(°)':'GAP (°)',\n",
    "                                'Error  Latitud(Km)':'ERROR LATITUD (Km)',\n",
    "                                'Error  Longitud(Km)':'ERROR LONGITUD (Km)',\n",
    "                                'Error  Profundidad(Km)':'ERROR PROFUNDIDAD (Km)'}, inplace = True)\n",
    "sismos.drop(['Fecha  (UTC)','Hora  (UTC)'],axis=1,inplace=True)\n",
    "proj = pyproj.Proj(\"+proj=tmerc +lat_0=4.0 +lon_0=-73.0 +k=0.9992 +x_0=5000000 +y_0=2000000 +ellps=GRS80 +towgs84=0,0,0,0,0,0,0 +units=m +no_defs\")\n",
    "dfp=proj.transform(xx=sismos['LONGITUD (°)'],yy=sismos['LATITUD (°)'])\n",
    "sismos['ESTE']=dfp[0]\n",
    "sismos['NORTE']=dfp[1]"
   ]
  },
  {
   "cell_type": "code",
   "execution_count": 28,
   "metadata": {},
   "outputs": [],
   "source": [
    "#metricas a WGS84\n",
    "wgs84 = pyproj.Transformer.from_crs(\"epsg:9377\", \"epsg:4326\")\n",
    "#WGS84 A Metricas\n",
    "magnas = pyproj.Transformer.from_crs(\"epsg:4326\", \"epsg:9377\")"
   ]
  },
  {
   "cell_type": "code",
   "execution_count": 71,
   "metadata": {},
   "outputs": [
    {
     "data": {
      "text/plain": [
       "Index(['LATITUD (°)', 'LONGITUD (°)', 'PROF. (Km)', 'MAGNITUD',\n",
       "       'TIPO MAGNITUD', 'RMS (Seg)', 'GAP (°)', 'ERROR LATITUD (Km)',\n",
       "       'ERROR LONGITUD (Km)', 'ERROR PROFUNDIDAD (Km)', 'Modelo',\n",
       "       'FECHA - HORA UTC', 'ESTE', 'NORTE'],\n",
       "      dtype='object')"
      ]
     },
     "execution_count": 71,
     "metadata": {},
     "output_type": "execute_result"
    }
   ],
   "source": [
    "sismos.columns"
   ]
  },
  {
   "cell_type": "code",
   "execution_count": 77,
   "metadata": {},
   "outputs": [],
   "source": [
    "cey=wgs84.transform(sismos['NORTE']+sismos['ERROR LATITUD (Km)'],sismos['ESTE'])[0]\n",
    "cex=wgs84.transform(sismos['NORTE'],sismos['ESTE']+sismos['ERROR LONGITUD (Km)'])[1]\n",
    "sismos['ERROR LONGITUD (°)']=cex-sismos['LONGITUD (°)']\n",
    "sismos['ERROR LATITUD (°)']=cey-sismos['LATITUD (°)']"
   ]
  },
  {
   "cell_type": "code",
   "execution_count": 79,
   "metadata": {},
   "outputs": [
    {
     "data": {
      "text/plain": [
       "0       0.153812\n",
       "1       0.621559\n",
       "2       0.727395\n",
       "3       0.063330\n",
       "4       0.196328\n",
       "          ...   \n",
       "4336    0.038869\n",
       "4337    0.017271\n",
       "4338    0.009601\n",
       "4339    0.010877\n",
       "4340    0.008316\n",
       "Name: ERROR LATITUD (°), Length: 4341, dtype: float64"
      ]
     },
     "execution_count": 79,
     "metadata": {},
     "output_type": "execute_result"
    }
   ],
   "source": [
    "sismos['ERROR LATITUD (°)']"
   ]
  },
  {
   "cell_type": "code",
   "execution_count": 29,
   "metadata": {},
   "outputs": [
    {
     "data": {
      "text/plain": [
       "(array([2327995.18599111, 2522023.36396967, 2409795.0703939 , ...,\n",
       "        2354550.65599076, 2361302.03395695, 2356374.32793293]),\n",
       " array([4873677.53342547, 4895430.74403669, 4869806.69769316, ...,\n",
       "        4911733.50207763, 4967426.83519574, 4911626.33599162]))"
      ]
     },
     "execution_count": 29,
     "metadata": {},
     "output_type": "execute_result"
    }
   ],
   "source": [
    "magnas.transform(sismos['LATITUD (°)'], sismos['LONGITUD (°)'])"
   ]
  },
  {
   "cell_type": "code",
   "execution_count": 32,
   "metadata": {},
   "outputs": [],
   "source": [
    "region=[x_pozo_inv_kale-52000,x_pozo_inv_kale+52000,\n",
    "        y_pozo_inv_kale-52000,y_pozo_inv_kale+52000]"
   ]
  },
  {
   "cell_type": "code",
   "execution_count": null,
   "metadata": {},
   "outputs": [],
   "source": [
    "lso=magnas.transform(sismos['LATITUD (°)'], sismos['LONGITUD (°)'])\n",
    "lse=magnas.transform(sismos['LATITUD (°)'], sismos['LONGITUD (°)'])\n",
    "lio=magnas.transform(sismos['LATITUD (°)'], sismos['LONGITUD (°)'])\n",
    "lie=magnas.transform(sismos['LATITUD (°)'], sismos['LONGITUD (°)'])"
   ]
  },
  {
   "cell_type": "code",
   "execution_count": 33,
   "metadata": {},
   "outputs": [],
   "source": [
    "def cylinder(r, h,x0,y0,a =0, nt=600, nv=50):\n",
    "    \"\"\"\n",
    "    r=radio\n",
    "    h=altura\n",
    "    a=altura sobre eje x y y (z)\n",
    "    nt=Calidad en un eje\n",
    "    nv=Calidad e otro eje\n",
    "    x=coordenada x\n",
    "    y=coordenada y\n",
    "    \"\"\"\n",
    "    theta = np.linspace(0, 2*np.pi, nt)\n",
    "    v = np.linspace(a, a+h, nv )\n",
    "    theta, v = np.meshgrid(theta, v)\n",
    "    x = r*np.cos(theta)+x0\n",
    "    y = r*np.sin(theta)+y0\n",
    "    z = v\n",
    "    return x, y, z\n",
    "\n",
    "def boundary_circle(r, h,x0,y0, nt=600):\n",
    "    \"\"\"\n",
    "    r - radio del borde\n",
    "    h - altura sobre el eje xy (z)\n",
    "    nt-calidad de un eje\n",
    "    x0-coordenada x\n",
    "    y0-coordenada y\n",
    "    \"\"\"\n",
    "    theta = np.linspace(0, 2*np.pi, nt)\n",
    "    x= r*np.cos(theta)+x0\n",
    "    y = r*np.sin(theta)+y0\n",
    "    z = h*np.ones(theta.shape)\n",
    "    return x, y, z"
   ]
  },
  {
   "cell_type": "code",
   "execution_count": null,
   "metadata": {},
   "outputs": [],
   "source": [
    "df_topo =pd.read_csv('datasets\\kale_100.xyz',delimiter=' ',header=None,decimal='.')\n",
    "#df_topo =df_topo[(df_topo[1]>ys)&(df_topo[1]<yn)&(df_topo[0]>xw)&(df_topo[0]<xe)] #Filtros previos\n",
    "mesh_topo = (df_topo.pivot(index=1, columns=0,values=2))\n",
    "z_topo,x_topo,y_topo=mesh_topo.values,mesh_topo.columns,mesh_topo.index"
   ]
  },
  {
   "cell_type": "code",
   "execution_count": 37,
   "metadata": {},
   "outputs": [],
   "source": [
    "def volumen_semaforo(r1,a1,h1,x01,y01,opac,col_cyl,col_cir,name):\n",
    "    x1, y1, z1 = cylinder(r1, h1,x01,y01, a=a1)\n",
    "    cyl1 = go.Surface(x=x1, y=y1, z=z1,\n",
    "                    colorscale = col_cyl,\n",
    "                    showscale=False,\n",
    "                    opacity=opac,\n",
    "                    name=name)\n",
    "    xb_low, yb_low, zb_low = boundary_circle(r1, a1,x01,y01)\n",
    "    xb_up, yb_up, zb_up = boundary_circle(r1, a1+h1,x01,y01)\n",
    "\n",
    "    bcircles1 =go.Scatter3d(x = xb_low.tolist()+[None]+xb_up.tolist(),\n",
    "                            y = yb_low.tolist()+[None]+yb_up.tolist(),\n",
    "                            z = zb_low.tolist()+[None]+zb_up.tolist(),\n",
    "                            mode ='lines',\n",
    "                            line = dict(color=col_cir, width=2),\n",
    "                            opacity =0.55, showlegend=False,\n",
    "                            name=name)\n",
    "    return cyl1,bcircles1"
   ]
  },
  {
   "cell_type": "code",
   "execution_count": 36,
   "metadata": {},
   "outputs": [],
   "source": [
    "#Asignamos las dimensiones y ubicacion del cilindro interno y externo respectivamente\n",
    "r1 = 2*h_pozo_inv_kale_m  #Radio interno es dos veces la profundidad medida del pozo. De acuerdo con Resolución 40185 del 2020 del MME. Profundidad aproximada en pozo de investigación es 3902 m\n",
    "a1 = 0 #Altura\n",
    "h1 = -16000 #Profundidad del cilindro de 16 km\n",
    "x01=float(x_pozo_inv_kale)\n",
    "y01=float(y_pozo_inv_kale)"
   ]
  },
  {
   "cell_type": "code",
   "execution_count": 39,
   "metadata": {},
   "outputs": [],
   "source": [
    "cyl1,bcircles1=volumen_semaforo(r1,a1,h1,x01,y01,0.5,['red','red'],'red','Suspensión')"
   ]
  },
  {
   "cell_type": "code",
   "execution_count": 44,
   "metadata": {},
   "outputs": [],
   "source": [
    "r1=2*h_pozo_inv_kale_m"
   ]
  },
  {
   "cell_type": "code",
   "execution_count": 45,
   "metadata": {},
   "outputs": [],
   "source": [
    "i=wgs84.transform(2371970,4905500)\n",
    "f=wgs84.transform(2371970+2*h_pozo_inv_kale_m,4905500)"
   ]
  },
  {
   "cell_type": "code",
   "execution_count": 54,
   "metadata": {},
   "outputs": [],
   "source": [
    "geo_inv=wgs84.transform(2371970,4905500)"
   ]
  },
  {
   "cell_type": "code",
   "execution_count": 56,
   "metadata": {},
   "outputs": [
    {
     "data": {
      "text/plain": [
       "(7.36551588073962, -73.85657811741982)"
      ]
     },
     "execution_count": 56,
     "metadata": {},
     "output_type": "execute_result"
    }
   ],
   "source": [
    "geo_inv"
   ]
  },
  {
   "cell_type": "code",
   "execution_count": 53,
   "metadata": {},
   "outputs": [
    {
     "data": {
      "text/plain": [
       "7804.0"
      ]
     },
     "execution_count": 53,
     "metadata": {},
     "output_type": "execute_result"
    }
   ],
   "source": [
    "r1"
   ]
  },
  {
   "cell_type": "code",
   "execution_count": 57,
   "metadata": {},
   "outputs": [
    {
     "data": {
      "text/plain": [
       "0.07061378808522001"
      ]
     },
     "execution_count": 57,
     "metadata": {},
     "output_type": "execute_result"
    }
   ],
   "source": [
    "f[0]-i[0]"
   ]
  },
  {
   "cell_type": "code",
   "execution_count": 58,
   "metadata": {},
   "outputs": [],
   "source": [
    "geo_r1=wgs84.transform(2371970+r1,4905500)"
   ]
  },
  {
   "cell_type": "code",
   "execution_count": 59,
   "metadata": {},
   "outputs": [
    {
     "data": {
      "text/plain": [
       "0.07061378808522001"
      ]
     },
     "execution_count": 59,
     "metadata": {},
     "output_type": "execute_result"
    }
   ],
   "source": [
    "geo_r1[0]-geo_inv[0]"
   ]
  },
  {
   "cell_type": "code",
   "execution_count": 63,
   "metadata": {},
   "outputs": [],
   "source": [
    "xe=x_pozo_inv_kale+50000\n",
    "xw=x_pozo_inv_kale-50000\n",
    "ys=y_pozo_inv_kale-50000\n",
    "yn=y_pozo_inv_kale+50000\n"
   ]
  },
  {
   "cell_type": "code",
   "execution_count": 70,
   "metadata": {},
   "outputs": [
    {
     "name": "stdout",
     "output_type": "stream",
     "text": [
      "-73.40297793835953\n",
      "7.8186098149102365\n",
      "6.912061719633063\n",
      "-74.31109712811764\n"
     ]
    }
   ],
   "source": [
    "print(wgs84.transform(ys,xe)[1])\n",
    "print(wgs84.transform(yn,xe)[0])\n",
    "print(wgs84.transform(ys,xw)[0])\n",
    "print(wgs84.transform(yn,xw)[1])"
   ]
  },
  {
   "cell_type": "code",
   "execution_count": 42,
   "metadata": {},
   "outputs": [],
   "source": [
    "r1=2*h_pozo_inv_kale_m"
   ]
  },
  {
   "cell_type": "code",
   "execution_count": 80,
   "metadata": {},
   "outputs": [],
   "source": [
    "xe=x_pozo_inv_kale+52000\n",
    "xw=x_pozo_inv_kale-52000\n",
    "ys=y_pozo_inv_kale-52000\n",
    "yn=y_pozo_inv_kale+52000\n",
    "\n",
    "ge=wgs84.transform(ys,xe)[1]\n",
    "gw=wgs84.transform(yn,xw)[1]\n",
    "gn=wgs84.transform(yn,xe)[0]\n",
    "gs=wgs84.transform(ys,xw)[0]"
   ]
  },
  {
   "cell_type": "code",
   "execution_count": 82,
   "metadata": {},
   "outputs": [
    {
     "data": {
      "text/plain": [
       "(-73.384852230196, -74.32929781241609, 7.836724863369543, 6.893917274978344)"
      ]
     },
     "execution_count": 82,
     "metadata": {},
     "output_type": "execute_result"
    }
   ],
   "source": [
    "ge,gw,gn,gs"
   ]
  },
  {
   "cell_type": "code",
   "execution_count": null,
   "metadata": {},
   "outputs": [],
   "source": [
    "def var_un(x_pozo_inv_kale, y_pozo_inv_kale,h_pozo_inv_kale_m,sismos,name):    \n",
    "    #Se importan los datos de los pozos del proyecto Kalé\n",
    "\n",
    "    # x_pozo_inv_kale, y_pozo_inv_kale  = 4905500, 2371970\n",
    "    # h_pozo_inv_kale_m = 3902 #m\n",
    "    # r_ext = 2*h_pozo_inv_kale_m+20000 #m\n",
    "\n",
    "    geo_inv=wgs84.transform(y_pozo_inv_kale ,x_pozo_inv_kale)\n",
    "\n",
    "    kale= go.Scatter3d(\n",
    "        x=np.array(geo_inv[1]),\n",
    "        y=np.array(geo_inv[0]),\n",
    "        z=np.array(300),\n",
    "        mode='markers',\n",
    "        marker_symbol='diamond',\n",
    "        name=\"PPII Kalé\",\n",
    "        hovertemplate =\"PPII Kalé - Investigación\",\n",
    "        marker=dict(\n",
    "            size=4,\n",
    "            color='black'\n",
    "        )\n",
    "    )\n",
    "\n",
    "    r1=2*h_pozo_inv_kale_m\n",
    "\n",
    "    geo_r1=wgs84.transform(y_pozo_inv_kale+r1,x_pozo_inv_kale)\n",
    "    geo_r2=wgs84.transform(y_pozo_inv_kale+r_ext,x_pozo_inv_kale)\n",
    "    geo_r3=wgs84.transform(y_pozo_inv_kale+50000,x_pozo_inv_kale)\n",
    "\n",
    "    #Volumen de suspension\n",
    "    cyl1,bcircles1=volumen_semaforo(geo_r1[0]-geo_inv[0] ,0,-16000,\n",
    "                        geo_inv[1],geo_inv[0],0.5,\n",
    "                        ['red','red'],'red','Suspensión')\n",
    "    #Volumen de monitoreo\n",
    "    cyl2,bcircles2=volumen_semaforo(geo_r2[0]-geo_inv[0],0,-16000,\n",
    "                        geo_inv[1],geo_inv[0],0.7,\n",
    "                        ['green','orange'],'green','Monitoreo')\n",
    "    #Volumen externo\n",
    "    cyl3,bcircles3=volumen_semaforo(geo_r3[0]-geo_inv[0],0,-32000,\n",
    "                        geo_inv[1],geo_inv[0],0.3,\n",
    "                        ['aqua','aqua'],'blue','Externo')\n",
    "\n",
    "\n",
    "\n",
    "\n",
    "\n",
    "    sismos_local = sismos[(sismos['PROF. (Km)']<=16)&\n",
    "                    ((((sismos['ESTE']-x_pozo_inv_kale)**2)+\n",
    "                    ((sismos['NORTE']-y_pozo_inv_kale)**2))\n",
    "                    **(1/2)<=r_ext)]\n",
    "\n",
    "    #Drenajes\n",
    "    # df_rivers=pd.read_csv('datasets\\drenajes.csv')\n",
    "    Mc=1.8\n",
    "\n",
    "    m0 = sismos[(sismos['MAGNITUD']<Mc)]\n",
    "    m1 = sismos[(sismos['MAGNITUD']>=Mc)&(sismos['MAGNITUD']<2)]\n",
    "    m2 = sismos[(sismos['MAGNITUD']>=2)&(sismos['MAGNITUD']<3)]\n",
    "    m3 = sismos[(sismos['MAGNITUD']>=3)&(sismos['MAGNITUD']<4)]\n",
    "    m4 = sismos[(sismos['MAGNITUD']>=4)]\n",
    "    mn=(m0,m1,m2,m3,m4)\n",
    "    # Cálculo de parámetros para el semáforo\n",
    "\n",
    "    nmsod_m0 = max_sismos_diarios(m0)   #Número máximo de sismos observados diarios\n",
    "    nmsod_m1 = max_sismos_diarios(m1)   #Número máximo de sismos observados diarios\n",
    "    nmsod_m2 = max_sismos_diarios(m2)   #Número máximo de sismos observados diarios\n",
    "    nmsod_m3 = max_sismos_diarios(m3)   #Número máximo de sismos observados diarios\n",
    "    nmsod_m4 = max_sismos_diarios(m4)   #Número máximo de sismos observados diarios\n",
    "    nmsod_mn=(nmsod_m0,nmsod_m1,nmsod_m2,nmsod_m3,nmsod_m4)\n",
    "    ND = (sismos['UTC'].max()-sismos['UTC'].min()).days  #Número de días calendario del catálogo\n",
    "\n",
    "    npsed_m0 = m0.shape[0]/ND    #Número promedio de sismos esperados diarios #OJO!!!!!!!!!\n",
    "    npsod_m1 = m1.shape[0]/ND   #Número promedio de sismos observados diarios\n",
    "    npsod_m2 = m2.shape[0]/ND   #Número promedio de sismos observados diarios\n",
    "    npsod_m3 = m3.shape[0]/ND   #Número promedio de sismos observados diarios\n",
    "    npsod_m4 = m4.shape[0]/ND   #Número promedio de sismos observados diarios\n",
    "    npseod_mn=(npsed_m0,npsod_m1,npsod_m2,npsod_m3,npsod_m4)\n",
    "\n",
    "    if nmsod_m1 == npsod_m1:\n",
    "            d_m1 = 1 - (1/ND)\n",
    "    else:\n",
    "        d_m1 = (nmsod_m1/npsod_m1)/2 #Tolerancia frecuencial m1    \n",
    "\n",
    "    if nmsod_m2 == npsod_m2:\n",
    "        d_m2 = 1 - (1/ND)\n",
    "    else:\n",
    "        d_m2 = (nmsod_m2/npsod_m2)/2 #Tolerancia frecuencial m2\n",
    "        \n",
    "    if nmsod_m3 == npsod_m3:\n",
    "        d_m3 = 1 - (1/ND)\n",
    "    else:\n",
    "        d_m3 = (nmsod_m3/npsod_m3)/2 #Tolerancia frecuencial m3\n",
    "\n",
    "    if nmsod_m4 == npsod_m4:\n",
    "        d_m4 = 1 - (1/ND)\n",
    "    else:\n",
    "        d_m4 = (nmsod_m4/npsod_m4)/2 #Tolerancia frecuencial m4\n",
    "    d_mn=(d_m1,d_m2,d_m3,d_m4)\n",
    "\n",
    "    xe=x_pozo_inv_kale+52000\n",
    "    xw=x_pozo_inv_kale-52000\n",
    "    ys=y_pozo_inv_kale-52000\n",
    "    yn=y_pozo_inv_kale+52000\n",
    "\n",
    "    ge=wgs84.transform(ys,xe)[1]\n",
    "    gw=wgs84.transform(yn,xw)[1]\n",
    "    gn=wgs84.transform(yn,xe)[0]\n",
    "    gs=wgs84.transform(ys,xw)[0]\n",
    "\n",
    "    sismos_total = sismos[(sismos['PROF. (Km)']<=32)&\n",
    "                    (sismos['ESTE']<=xe)&\n",
    "                    (sismos['ESTE']>=xw)&\n",
    "                    (sismos['NORTE']<=yn)&\n",
    "                    (sismos['ESTE']>=ys)]\n",
    "    return sismos_total,sismos_local,Mc,ND,mn,nmsod_mn,npseod_mn,d_mn,x_pozo_inv_kale,y_pozo_inv_kale,r1,r_ext,gw,ge,gs,gn"
   ]
  }
 ],
 "metadata": {
  "interpreter": {
   "hash": "c2bcf8f024e30e73483b98a428b10c7b83874a362987a530c5f8a51a305784d9"
  },
  "kernelspec": {
   "display_name": "Python 3.7.10 ('geopython')",
   "language": "python",
   "name": "python3"
  },
  "language_info": {
   "codemirror_mode": {
    "name": "ipython",
    "version": 3
   },
   "file_extension": ".py",
   "mimetype": "text/x-python",
   "name": "python",
   "nbconvert_exporter": "python",
   "pygments_lexer": "ipython3",
   "version": "3.7.10"
  },
  "orig_nbformat": 4
 },
 "nbformat": 4,
 "nbformat_minor": 2
}
